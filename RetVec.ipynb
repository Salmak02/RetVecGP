{
  "cells": [
    {
      "cell_type": "markdown",
      "metadata": {
        "id": "view-in-github",
        "colab_type": "text"
      },
      "source": [
        "<a href=\"https://colab.research.google.com/github/Salmak02/RetVecGP/blob/main/RetVec.ipynb\" target=\"_parent\"><img src=\"https://colab.research.google.com/assets/colab-badge.svg\" alt=\"Open In Colab\"/></a>"
      ]
    },
    {
      "cell_type": "code",
      "execution_count": null,
      "metadata": {
        "colab": {
          "base_uri": "https://localhost:8080/"
        },
        "id": "9g1lFBSEpz3X",
        "outputId": "940ed869-ed7f-4082-896d-42d1e752550a"
      },
      "outputs": [
        {
          "output_type": "stream",
          "name": "stdout",
          "text": [
            "Collecting retvec\n",
            "  Downloading retvec-1.0.1-py3-none-any.whl (40 kB)\n",
            "\u001b[2K     \u001b[90m━━━━━━━━━━━━━━━━━━━━━━━━━━━━━━━━━━━━━━━━\u001b[0m \u001b[32m40.5/40.5 kB\u001b[0m \u001b[31m1.1 MB/s\u001b[0m eta \u001b[36m0:00:00\u001b[0m\n",
            "\u001b[?25hInstalling collected packages: retvec\n",
            "Successfully installed retvec-1.0.1\n",
            "Requirement already satisfied: tensorflow in /usr/local/lib/python3.10/dist-packages (2.15.0)\n",
            "Requirement already satisfied: absl-py>=1.0.0 in /usr/local/lib/python3.10/dist-packages (from tensorflow) (1.4.0)\n",
            "Requirement already satisfied: astunparse>=1.6.0 in /usr/local/lib/python3.10/dist-packages (from tensorflow) (1.6.3)\n",
            "Requirement already satisfied: flatbuffers>=23.5.26 in /usr/local/lib/python3.10/dist-packages (from tensorflow) (23.5.26)\n",
            "Requirement already satisfied: gast!=0.5.0,!=0.5.1,!=0.5.2,>=0.2.1 in /usr/local/lib/python3.10/dist-packages (from tensorflow) (0.5.4)\n",
            "Requirement already satisfied: google-pasta>=0.1.1 in /usr/local/lib/python3.10/dist-packages (from tensorflow) (0.2.0)\n",
            "Requirement already satisfied: h5py>=2.9.0 in /usr/local/lib/python3.10/dist-packages (from tensorflow) (3.9.0)\n",
            "Requirement already satisfied: libclang>=13.0.0 in /usr/local/lib/python3.10/dist-packages (from tensorflow) (16.0.6)\n",
            "Requirement already satisfied: ml-dtypes~=0.2.0 in /usr/local/lib/python3.10/dist-packages (from tensorflow) (0.2.0)\n",
            "Requirement already satisfied: numpy<2.0.0,>=1.23.5 in /usr/local/lib/python3.10/dist-packages (from tensorflow) (1.25.2)\n",
            "Requirement already satisfied: opt-einsum>=2.3.2 in /usr/local/lib/python3.10/dist-packages (from tensorflow) (3.3.0)\n",
            "Requirement already satisfied: packaging in /usr/local/lib/python3.10/dist-packages (from tensorflow) (23.2)\n",
            "Requirement already satisfied: protobuf!=4.21.0,!=4.21.1,!=4.21.2,!=4.21.3,!=4.21.4,!=4.21.5,<5.0.0dev,>=3.20.3 in /usr/local/lib/python3.10/dist-packages (from tensorflow) (3.20.3)\n",
            "Requirement already satisfied: setuptools in /usr/local/lib/python3.10/dist-packages (from tensorflow) (67.7.2)\n",
            "Requirement already satisfied: six>=1.12.0 in /usr/local/lib/python3.10/dist-packages (from tensorflow) (1.16.0)\n",
            "Requirement already satisfied: termcolor>=1.1.0 in /usr/local/lib/python3.10/dist-packages (from tensorflow) (2.4.0)\n",
            "Requirement already satisfied: typing-extensions>=3.6.6 in /usr/local/lib/python3.10/dist-packages (from tensorflow) (4.10.0)\n",
            "Requirement already satisfied: wrapt<1.15,>=1.11.0 in /usr/local/lib/python3.10/dist-packages (from tensorflow) (1.14.1)\n",
            "Requirement already satisfied: tensorflow-io-gcs-filesystem>=0.23.1 in /usr/local/lib/python3.10/dist-packages (from tensorflow) (0.36.0)\n",
            "Requirement already satisfied: grpcio<2.0,>=1.24.3 in /usr/local/lib/python3.10/dist-packages (from tensorflow) (1.62.0)\n",
            "Requirement already satisfied: tensorboard<2.16,>=2.15 in /usr/local/lib/python3.10/dist-packages (from tensorflow) (2.15.2)\n",
            "Requirement already satisfied: tensorflow-estimator<2.16,>=2.15.0 in /usr/local/lib/python3.10/dist-packages (from tensorflow) (2.15.0)\n",
            "Requirement already satisfied: keras<2.16,>=2.15.0 in /usr/local/lib/python3.10/dist-packages (from tensorflow) (2.15.0)\n",
            "Requirement already satisfied: wheel<1.0,>=0.23.0 in /usr/local/lib/python3.10/dist-packages (from astunparse>=1.6.0->tensorflow) (0.42.0)\n",
            "Requirement already satisfied: google-auth<3,>=1.6.3 in /usr/local/lib/python3.10/dist-packages (from tensorboard<2.16,>=2.15->tensorflow) (2.27.0)\n",
            "Requirement already satisfied: google-auth-oauthlib<2,>=0.5 in /usr/local/lib/python3.10/dist-packages (from tensorboard<2.16,>=2.15->tensorflow) (1.2.0)\n",
            "Requirement already satisfied: markdown>=2.6.8 in /usr/local/lib/python3.10/dist-packages (from tensorboard<2.16,>=2.15->tensorflow) (3.5.2)\n",
            "Requirement already satisfied: requests<3,>=2.21.0 in /usr/local/lib/python3.10/dist-packages (from tensorboard<2.16,>=2.15->tensorflow) (2.31.0)\n",
            "Requirement already satisfied: tensorboard-data-server<0.8.0,>=0.7.0 in /usr/local/lib/python3.10/dist-packages (from tensorboard<2.16,>=2.15->tensorflow) (0.7.2)\n",
            "Requirement already satisfied: werkzeug>=1.0.1 in /usr/local/lib/python3.10/dist-packages (from tensorboard<2.16,>=2.15->tensorflow) (3.0.1)\n",
            "Requirement already satisfied: cachetools<6.0,>=2.0.0 in /usr/local/lib/python3.10/dist-packages (from google-auth<3,>=1.6.3->tensorboard<2.16,>=2.15->tensorflow) (5.3.3)\n",
            "Requirement already satisfied: pyasn1-modules>=0.2.1 in /usr/local/lib/python3.10/dist-packages (from google-auth<3,>=1.6.3->tensorboard<2.16,>=2.15->tensorflow) (0.3.0)\n",
            "Requirement already satisfied: rsa<5,>=3.1.4 in /usr/local/lib/python3.10/dist-packages (from google-auth<3,>=1.6.3->tensorboard<2.16,>=2.15->tensorflow) (4.9)\n",
            "Requirement already satisfied: requests-oauthlib>=0.7.0 in /usr/local/lib/python3.10/dist-packages (from google-auth-oauthlib<2,>=0.5->tensorboard<2.16,>=2.15->tensorflow) (1.3.1)\n",
            "Requirement already satisfied: charset-normalizer<4,>=2 in /usr/local/lib/python3.10/dist-packages (from requests<3,>=2.21.0->tensorboard<2.16,>=2.15->tensorflow) (3.3.2)\n",
            "Requirement already satisfied: idna<4,>=2.5 in /usr/local/lib/python3.10/dist-packages (from requests<3,>=2.21.0->tensorboard<2.16,>=2.15->tensorflow) (3.6)\n",
            "Requirement already satisfied: urllib3<3,>=1.21.1 in /usr/local/lib/python3.10/dist-packages (from requests<3,>=2.21.0->tensorboard<2.16,>=2.15->tensorflow) (2.0.7)\n",
            "Requirement already satisfied: certifi>=2017.4.17 in /usr/local/lib/python3.10/dist-packages (from requests<3,>=2.21.0->tensorboard<2.16,>=2.15->tensorflow) (2024.2.2)\n",
            "Requirement already satisfied: MarkupSafe>=2.1.1 in /usr/local/lib/python3.10/dist-packages (from werkzeug>=1.0.1->tensorboard<2.16,>=2.15->tensorflow) (2.1.5)\n",
            "Requirement already satisfied: pyasn1<0.6.0,>=0.4.6 in /usr/local/lib/python3.10/dist-packages (from pyasn1-modules>=0.2.1->google-auth<3,>=1.6.3->tensorboard<2.16,>=2.15->tensorflow) (0.5.1)\n",
            "Requirement already satisfied: oauthlib>=3.0.0 in /usr/local/lib/python3.10/dist-packages (from requests-oauthlib>=0.7.0->google-auth-oauthlib<2,>=0.5->tensorboard<2.16,>=2.15->tensorflow) (3.2.2)\n",
            "Collecting tensorflow-text\n",
            "  Downloading tensorflow_text-2.15.0-cp310-cp310-manylinux_2_17_x86_64.manylinux2014_x86_64.whl (5.2 MB)\n",
            "\u001b[2K     \u001b[90m━━━━━━━━━━━━━━━━━━━━━━━━━━━━━━━━━━━━━━━━\u001b[0m \u001b[32m5.2/5.2 MB\u001b[0m \u001b[31m36.0 MB/s\u001b[0m eta \u001b[36m0:00:00\u001b[0m\n",
            "\u001b[?25hRequirement already satisfied: tensorflow-hub>=0.13.0 in /usr/local/lib/python3.10/dist-packages (from tensorflow-text) (0.16.1)\n",
            "Requirement already satisfied: tensorflow<2.16,>=2.15.0 in /usr/local/lib/python3.10/dist-packages (from tensorflow-text) (2.15.0)\n",
            "Requirement already satisfied: absl-py>=1.0.0 in /usr/local/lib/python3.10/dist-packages (from tensorflow<2.16,>=2.15.0->tensorflow-text) (1.4.0)\n",
            "Requirement already satisfied: astunparse>=1.6.0 in /usr/local/lib/python3.10/dist-packages (from tensorflow<2.16,>=2.15.0->tensorflow-text) (1.6.3)\n",
            "Requirement already satisfied: flatbuffers>=23.5.26 in /usr/local/lib/python3.10/dist-packages (from tensorflow<2.16,>=2.15.0->tensorflow-text) (23.5.26)\n",
            "Requirement already satisfied: gast!=0.5.0,!=0.5.1,!=0.5.2,>=0.2.1 in /usr/local/lib/python3.10/dist-packages (from tensorflow<2.16,>=2.15.0->tensorflow-text) (0.5.4)\n",
            "Requirement already satisfied: google-pasta>=0.1.1 in /usr/local/lib/python3.10/dist-packages (from tensorflow<2.16,>=2.15.0->tensorflow-text) (0.2.0)\n",
            "Requirement already satisfied: h5py>=2.9.0 in /usr/local/lib/python3.10/dist-packages (from tensorflow<2.16,>=2.15.0->tensorflow-text) (3.9.0)\n",
            "Requirement already satisfied: libclang>=13.0.0 in /usr/local/lib/python3.10/dist-packages (from tensorflow<2.16,>=2.15.0->tensorflow-text) (16.0.6)\n",
            "Requirement already satisfied: ml-dtypes~=0.2.0 in /usr/local/lib/python3.10/dist-packages (from tensorflow<2.16,>=2.15.0->tensorflow-text) (0.2.0)\n",
            "Requirement already satisfied: numpy<2.0.0,>=1.23.5 in /usr/local/lib/python3.10/dist-packages (from tensorflow<2.16,>=2.15.0->tensorflow-text) (1.25.2)\n",
            "Requirement already satisfied: opt-einsum>=2.3.2 in /usr/local/lib/python3.10/dist-packages (from tensorflow<2.16,>=2.15.0->tensorflow-text) (3.3.0)\n",
            "Requirement already satisfied: packaging in /usr/local/lib/python3.10/dist-packages (from tensorflow<2.16,>=2.15.0->tensorflow-text) (23.2)\n",
            "Requirement already satisfied: protobuf!=4.21.0,!=4.21.1,!=4.21.2,!=4.21.3,!=4.21.4,!=4.21.5,<5.0.0dev,>=3.20.3 in /usr/local/lib/python3.10/dist-packages (from tensorflow<2.16,>=2.15.0->tensorflow-text) (3.20.3)\n",
            "Requirement already satisfied: setuptools in /usr/local/lib/python3.10/dist-packages (from tensorflow<2.16,>=2.15.0->tensorflow-text) (67.7.2)\n",
            "Requirement already satisfied: six>=1.12.0 in /usr/local/lib/python3.10/dist-packages (from tensorflow<2.16,>=2.15.0->tensorflow-text) (1.16.0)\n",
            "Requirement already satisfied: termcolor>=1.1.0 in /usr/local/lib/python3.10/dist-packages (from tensorflow<2.16,>=2.15.0->tensorflow-text) (2.4.0)\n",
            "Requirement already satisfied: typing-extensions>=3.6.6 in /usr/local/lib/python3.10/dist-packages (from tensorflow<2.16,>=2.15.0->tensorflow-text) (4.10.0)\n",
            "Requirement already satisfied: wrapt<1.15,>=1.11.0 in /usr/local/lib/python3.10/dist-packages (from tensorflow<2.16,>=2.15.0->tensorflow-text) (1.14.1)\n",
            "Requirement already satisfied: tensorflow-io-gcs-filesystem>=0.23.1 in /usr/local/lib/python3.10/dist-packages (from tensorflow<2.16,>=2.15.0->tensorflow-text) (0.36.0)\n",
            "Requirement already satisfied: grpcio<2.0,>=1.24.3 in /usr/local/lib/python3.10/dist-packages (from tensorflow<2.16,>=2.15.0->tensorflow-text) (1.62.0)\n",
            "Requirement already satisfied: tensorboard<2.16,>=2.15 in /usr/local/lib/python3.10/dist-packages (from tensorflow<2.16,>=2.15.0->tensorflow-text) (2.15.2)\n",
            "Requirement already satisfied: tensorflow-estimator<2.16,>=2.15.0 in /usr/local/lib/python3.10/dist-packages (from tensorflow<2.16,>=2.15.0->tensorflow-text) (2.15.0)\n",
            "Requirement already satisfied: keras<2.16,>=2.15.0 in /usr/local/lib/python3.10/dist-packages (from tensorflow<2.16,>=2.15.0->tensorflow-text) (2.15.0)\n",
            "Requirement already satisfied: tf-keras>=2.14.1 in /usr/local/lib/python3.10/dist-packages (from tensorflow-hub>=0.13.0->tensorflow-text) (2.15.0)\n",
            "Requirement already satisfied: wheel<1.0,>=0.23.0 in /usr/local/lib/python3.10/dist-packages (from astunparse>=1.6.0->tensorflow<2.16,>=2.15.0->tensorflow-text) (0.42.0)\n",
            "Requirement already satisfied: google-auth<3,>=1.6.3 in /usr/local/lib/python3.10/dist-packages (from tensorboard<2.16,>=2.15->tensorflow<2.16,>=2.15.0->tensorflow-text) (2.27.0)\n",
            "Requirement already satisfied: google-auth-oauthlib<2,>=0.5 in /usr/local/lib/python3.10/dist-packages (from tensorboard<2.16,>=2.15->tensorflow<2.16,>=2.15.0->tensorflow-text) (1.2.0)\n",
            "Requirement already satisfied: markdown>=2.6.8 in /usr/local/lib/python3.10/dist-packages (from tensorboard<2.16,>=2.15->tensorflow<2.16,>=2.15.0->tensorflow-text) (3.5.2)\n",
            "Requirement already satisfied: requests<3,>=2.21.0 in /usr/local/lib/python3.10/dist-packages (from tensorboard<2.16,>=2.15->tensorflow<2.16,>=2.15.0->tensorflow-text) (2.31.0)\n",
            "Requirement already satisfied: tensorboard-data-server<0.8.0,>=0.7.0 in /usr/local/lib/python3.10/dist-packages (from tensorboard<2.16,>=2.15->tensorflow<2.16,>=2.15.0->tensorflow-text) (0.7.2)\n",
            "Requirement already satisfied: werkzeug>=1.0.1 in /usr/local/lib/python3.10/dist-packages (from tensorboard<2.16,>=2.15->tensorflow<2.16,>=2.15.0->tensorflow-text) (3.0.1)\n",
            "Requirement already satisfied: cachetools<6.0,>=2.0.0 in /usr/local/lib/python3.10/dist-packages (from google-auth<3,>=1.6.3->tensorboard<2.16,>=2.15->tensorflow<2.16,>=2.15.0->tensorflow-text) (5.3.3)\n",
            "Requirement already satisfied: pyasn1-modules>=0.2.1 in /usr/local/lib/python3.10/dist-packages (from google-auth<3,>=1.6.3->tensorboard<2.16,>=2.15->tensorflow<2.16,>=2.15.0->tensorflow-text) (0.3.0)\n",
            "Requirement already satisfied: rsa<5,>=3.1.4 in /usr/local/lib/python3.10/dist-packages (from google-auth<3,>=1.6.3->tensorboard<2.16,>=2.15->tensorflow<2.16,>=2.15.0->tensorflow-text) (4.9)\n",
            "Requirement already satisfied: requests-oauthlib>=0.7.0 in /usr/local/lib/python3.10/dist-packages (from google-auth-oauthlib<2,>=0.5->tensorboard<2.16,>=2.15->tensorflow<2.16,>=2.15.0->tensorflow-text) (1.3.1)\n",
            "Requirement already satisfied: charset-normalizer<4,>=2 in /usr/local/lib/python3.10/dist-packages (from requests<3,>=2.21.0->tensorboard<2.16,>=2.15->tensorflow<2.16,>=2.15.0->tensorflow-text) (3.3.2)\n",
            "Requirement already satisfied: idna<4,>=2.5 in /usr/local/lib/python3.10/dist-packages (from requests<3,>=2.21.0->tensorboard<2.16,>=2.15->tensorflow<2.16,>=2.15.0->tensorflow-text) (3.6)\n",
            "Requirement already satisfied: urllib3<3,>=1.21.1 in /usr/local/lib/python3.10/dist-packages (from requests<3,>=2.21.0->tensorboard<2.16,>=2.15->tensorflow<2.16,>=2.15.0->tensorflow-text) (2.0.7)\n",
            "Requirement already satisfied: certifi>=2017.4.17 in /usr/local/lib/python3.10/dist-packages (from requests<3,>=2.21.0->tensorboard<2.16,>=2.15->tensorflow<2.16,>=2.15.0->tensorflow-text) (2024.2.2)\n",
            "Requirement already satisfied: MarkupSafe>=2.1.1 in /usr/local/lib/python3.10/dist-packages (from werkzeug>=1.0.1->tensorboard<2.16,>=2.15->tensorflow<2.16,>=2.15.0->tensorflow-text) (2.1.5)\n",
            "Requirement already satisfied: pyasn1<0.6.0,>=0.4.6 in /usr/local/lib/python3.10/dist-packages (from pyasn1-modules>=0.2.1->google-auth<3,>=1.6.3->tensorboard<2.16,>=2.15->tensorflow<2.16,>=2.15.0->tensorflow-text) (0.5.1)\n",
            "Requirement already satisfied: oauthlib>=3.0.0 in /usr/local/lib/python3.10/dist-packages (from requests-oauthlib>=0.7.0->google-auth-oauthlib<2,>=0.5->tensorboard<2.16,>=2.15->tensorflow<2.16,>=2.15.0->tensorflow-text) (3.2.2)\n",
            "Installing collected packages: tensorflow-text\n",
            "Successfully installed tensorflow-text-2.15.0\n"
          ]
        }
      ],
      "source": [
        "!pip install retvec\n",
        "!pip install tensorflow\n",
        "try:\n",
        "    import tensorflow_text\n",
        "except ImportError:\n",
        "    !pip install tensorflow-text\n"
      ]
    },
    {
      "cell_type": "code",
      "source": [],
      "metadata": {
        "id": "rpxhGFsh-0j9"
      },
      "execution_count": null,
      "outputs": []
    },
    {
      "cell_type": "code",
      "source": [
        "import pandas as pd\n",
        "import tensorflow as tf\n",
        "import numpy as np\n",
        "from tensorflow.keras import layers\n",
        "from retvec.tf import RETVecTokenizer\n",
        "from sklearn.model_selection import train_test_split\n",
        "from sklearn.preprocessing import MinMaxScaler, LabelEncoder\n",
        "dataSet = pd.read_csv('Phishing_Email.csv')\n",
        "email = dataSet['Email Text']\n",
        "\n",
        "# num of phishing and safe at all data before removing sum phishing\n",
        "phising = (dataSet['Email Type'] == \"Phishing Email\").sum()\n",
        "safe = (dataSet['Email Type'] == \"Safe Email\").sum()\n",
        "print(f\"phising precentage: {phising}\")\n",
        "print(f\"safe precentage: {safe}\")\n",
        "\n",
        "NUM_CLASSES = 2\n",
        "\n",
        "# Remove 2000 rows (almost 50% of phishing) 10% of total dataset\n",
        "value_to_remove = 'Phishing Email' # phishing\n",
        "num_rows_to_remove = 2000\n",
        "# Filter the dataset based on the 'Email Type' column\n",
        "phishingSet = dataSet[dataSet['Email Type'] == value_to_remove]\n",
        "# Remove the first num_rows_to_remove rows\n",
        "phishingSet = phishingSet.iloc[num_rows_to_remove:].reset_index(drop=True)\n",
        "safeSet=dataSet[dataSet['Email Type'] == 'Safe Email']\n",
        "# Concatenate vertically (along rows)\n",
        "result = pd.concat([phishingSet, safeSet], ignore_index=True)\n",
        "result = result.sample(frac=1)\n",
        "\n",
        "x_train, x_test, y_train, y_test = train_test_split(result['Email Text'], result['Email Type'],test_size=0.2, random_state=0, shuffle=True)\n",
        "\n",
        "test = pd.DataFrame()\n",
        "test['Email Text']= x_test\n",
        "# Create two new columns\n",
        "test['Email Type'] = y_test\n",
        "# Remove 1000 rows (almost 50% of phishing) 10% of total dataset\n",
        "value_to_remove = 'Safe Email'\n",
        "num_rows_to_remove = 1000\n",
        "# Filter the dataset based on the 'Email Type' column\n",
        "SafeSet = test[test['Email Type'] == value_to_remove]\n",
        "# Remove the first num_rows_to_remove rows\n",
        "SafeSet = SafeSet.iloc[num_rows_to_remove:].reset_index(drop=True)\n",
        "PhishingSet = test[test['Email Type'] == 'Phishing Email']\n",
        "\n",
        "# num of phishing and safe at all data before removing sum phishing\n",
        "phising = (test['Email Type'] == 'Phishing Email').sum()\n",
        "safe = (test['Email Type'] == 'Safe Email').sum()\n",
        "print(f\"phising precentage: {phising}\")\n",
        "print(f\"safe precentage: {safe}\")\n",
        "\n",
        "# Concatenate vertically (along rows)\n",
        "result = pd.concat([SafeSet , PhishingSet], ignore_index=True)\n",
        "result = result.sample(frac=1)\n",
        "\n",
        "\n",
        "\n",
        "# Now y_train_df has two columns 'label_0' and 'label_1' where 'label_0' contains 1 for 0 values and 'label_1' contains 1 for 1 values\n",
        "x_train = x_train.astype(str)\n",
        "x_train = tf.constant(x_train, dtype=tf.string)\n",
        "le = LabelEncoder()\n",
        "y_train = le.fit_transform(y_train)\n",
        "\n",
        "x_test=result['Email Text']\n",
        "y_test=result['Email Type']\n",
        "x_test = x_test.astype(str)\n",
        "x_test = tf.constant(x_test, dtype=tf.string)\n",
        "y_test = le.transform(y_test)\n",
        "\n",
        "phising = (y_test == 0).sum()\n",
        "safe = (y_test == 1).sum()\n",
        "print(f\"phising precentage at Testing: {phising}\")\n",
        "print(f\"safe precentage at Testing: {safe}\")\n",
        "\n",
        "\n",
        "\n",
        "# Train and Test Dataframe Split and Save\n",
        "trainDataframe = pd.DataFrame()\n",
        "trainDataframe['Email Text']=x_train\n",
        "# Create two new columns\n",
        "trainDataframe['Phishing Email']=(y_train == 0).astype(int)\n",
        "trainDataframe['Safe Email']=(y_train == 1).astype(int)\n",
        "trainDataframe.to_csv('TrainRetVec.csv', index=False)\n",
        "\n",
        "testDataframe = pd.DataFrame()\n",
        "testDataframe['Email Text']= x_test\n",
        "# Create two new columns\n",
        "testDataframe['Phishing Email']=(y_test== 0).astype(int)\n",
        "testDataframe['Safe Email']=(y_test == 1).astype(int)\n",
        "testDataframe.to_csv('TestRetVec.csv', index=False)\n",
        "print(testDataframe['Safe Email'])\n",
        "print(testDataframe['Phishing Email'])\n",
        "\n",
        "# 1 Safe & 0 Phishing"
      ],
      "metadata": {
        "colab": {
          "base_uri": "https://localhost:8080/"
        },
        "id": "uDZza44J-6oQ",
        "outputId": "9ede636f-8c87-45c9-bf3e-7fcd694d7b7e"
      },
      "execution_count": null,
      "outputs": [
        {
          "output_type": "stream",
          "name": "stdout",
          "text": [
            "phising precentage: 7328\n",
            "safe precentage: 11322\n",
            "phising precentage: 1048\n",
            "safe precentage: 2282\n",
            "phising precentage at Testing: 1048\n",
            "safe precentage at Testing: 1282\n",
            "0       1\n",
            "1       1\n",
            "2       0\n",
            "3       0\n",
            "4       1\n",
            "       ..\n",
            "2325    1\n",
            "2326    1\n",
            "2327    1\n",
            "2328    1\n",
            "2329    0\n",
            "Name: Safe Email, Length: 2330, dtype: int64\n",
            "0       0\n",
            "1       0\n",
            "2       1\n",
            "3       1\n",
            "4       0\n",
            "       ..\n",
            "2325    0\n",
            "2326    0\n",
            "2327    0\n",
            "2328    0\n",
            "2329    1\n",
            "Name: Phishing Email, Length: 2330, dtype: int64\n"
          ]
        }
      ]
    },
    {
      "cell_type": "code",
      "execution_count": null,
      "metadata": {
        "colab": {
          "base_uri": "https://localhost:8080/"
        },
        "id": "EPg_IJg2tolw",
        "outputId": "9d5e9d96-a4cc-455f-ff85-4f0be3b4fa69"
      },
      "outputs": [
        {
          "output_type": "stream",
          "name": "stdout",
          "text": [
            "Downloading data from https://storage.googleapis.com/tensorflow/keras-applications/retvec-v1/fingerprint.pb\n",
            "53/53 [==============================] - 0s 0us/step\n",
            "Downloading data from https://storage.googleapis.com/tensorflow/keras-applications/retvec-v1/keras_metadata.pb\n",
            "13821/13821 [==============================] - 0s 0us/step\n",
            "Downloading data from https://storage.googleapis.com/tensorflow/keras-applications/retvec-v1/saved_model.pb\n",
            "105287/105287 [==============================] - 0s 3us/step\n",
            "Downloading data from https://storage.googleapis.com/tensorflow/keras-applications/retvec-v1/variables/variables.data-00000-of-00001\n",
            "927018/927018 [==============================] - 1s 1us/step\n",
            "Downloading data from https://storage.googleapis.com/tensorflow/keras-applications/retvec-v1/variables/variables.index\n",
            "645/645 [==============================] - 0s 0us/step\n"
          ]
        },
        {
          "output_type": "stream",
          "name": "stderr",
          "text": [
            "WARNING:tensorflow:No training configuration found in save file, so the model was *not* compiled. Compile it manually.\n"
          ]
        },
        {
          "output_type": "stream",
          "name": "stdout",
          "text": [
            "Model: \"model\"\n",
            "_________________________________________________________________\n",
            " Layer (type)                Output Shape              Param #   \n",
            "=================================================================\n",
            " Emails tokens (InputLayer)  [(None, 1)]               0         \n",
            "                                                                 \n",
            " ret_vec_tokenizer (RETVecT  (None, 128, 256)          230144    \n",
            " okenizer)                                                       \n",
            "                                                                 \n",
            " bidirectional (Bidirection  (None, 128, 128)          164352    \n",
            " al)                                                             \n",
            "                                                                 \n",
            " bidirectional_1 (Bidirecti  (None, 128)               98816     \n",
            " onal)                                                           \n",
            "                                                                 \n",
            " dense (Dense)               (None, 2)                 258       \n",
            "                                                                 \n",
            "=================================================================\n",
            "Total params: 493570 (1.88 MB)\n",
            "Trainable params: 263426 (1.00 MB)\n",
            "Non-trainable params: 230144 (899.00 KB)\n",
            "_________________________________________________________________\n"
          ]
        }
      ],
      "source": [
        "# Define the input layer, which accepts raw strings\n",
        "inputs = layers.Input(shape=(1, ), name=\"Emails tokens\" , dtype = tf.string )\n",
        "\n",
        "# Add the RETVec Tokenizer layer using the RETVec embedding model -- that's it!\n",
        "x = RETVecTokenizer(model='retvec-v1')(inputs)\n",
        "# save the model\n",
        "#x = RETVecTokenizer(model='retvec-v1', use_tf_lite_compatible_ops=True)(inputs)\n",
        "# Create your model like normal\n",
        "# e.g. a simple LSTM model for classification with NUM_CLASSES classes\n",
        "x = layers.Bidirectional(layers.LSTM(64, return_sequences=True))(x)\n",
        "x = layers.Bidirectional(layers.LSTM(64))(x)\n",
        "outputs = layers.Dense(NUM_CLASSES, activation='softmax')(x)\n",
        "model = tf.keras.Model(inputs, outputs)\n",
        "model.summary()"
      ]
    },
    {
      "cell_type": "code",
      "execution_count": null,
      "metadata": {
        "colab": {
          "base_uri": "https://localhost:8080/"
        },
        "id": "YsI7q6AlrisD",
        "outputId": "0c97dfad-ceda-4d3c-b382-8e8e56d86257"
      },
      "outputs": [
        {
          "output_type": "stream",
          "name": "stderr",
          "text": [
            "WARNING:absl:`lr` is deprecated in Keras optimizer, please use `learning_rate` or use the legacy optimizer, e.g.,tf.keras.optimizers.legacy.SGD.\n"
          ]
        },
        {
          "output_type": "stream",
          "name": "stdout",
          "text": [
            "x_train (7992,)\n",
            "x_test (5328,)\n",
            "y_train (7992, 2)\n",
            "y_test (5328, 2)\n",
            "Epoch 1/25\n",
            "32/32 [==============================] - ETA: 0s - loss: 0.2107 - acc: 0.9115"
          ]
        },
        {
          "output_type": "stream",
          "name": "stderr",
          "text": [
            "WARNING:tensorflow:Can save best model only with val_accuracy available, skipping.\n"
          ]
        },
        {
          "output_type": "stream",
          "name": "stdout",
          "text": [
            "\b\b\b\b\b\b\b\b\b\b\b\b\b\b\b\b\b\b\b\b\b\b\b\b\b\b\b\b\b\b\b\b\b\b\b\b\b\b\b\b\b\b\b\b\b\b\b\b\b\b\b\b\b\b\b\b\b\b\b\b\b\b\b\b\b\b\b\b\b\b\b\b\b\b\b\b\b\r32/32 [==============================] - 109s 3s/step - loss: 0.2107 - acc: 0.9115 - val_loss: 0.2562 - val_acc: 0.8838\n",
            "Epoch 2/25\n",
            "32/32 [==============================] - ETA: 0s - loss: 0.2020 - acc: 0.9237"
          ]
        },
        {
          "output_type": "stream",
          "name": "stderr",
          "text": [
            "WARNING:tensorflow:Can save best model only with val_accuracy available, skipping.\n"
          ]
        },
        {
          "output_type": "stream",
          "name": "stdout",
          "text": [
            "\b\b\b\b\b\b\b\b\b\b\b\b\b\b\b\b\b\b\b\b\b\b\b\b\b\b\b\b\b\b\b\b\b\b\b\b\b\b\b\b\b\b\b\b\b\b\b\b\b\b\b\b\b\b\b\b\b\b\b\b\b\b\b\b\b\b\b\b\b\b\b\b\b\b\b\b\b\r32/32 [==============================] - 113s 4s/step - loss: 0.2020 - acc: 0.9237 - val_loss: 0.2895 - val_acc: 0.8709\n",
            "Epoch 3/25\n",
            "32/32 [==============================] - ETA: 0s - loss: 0.1902 - acc: 0.9217"
          ]
        },
        {
          "output_type": "stream",
          "name": "stderr",
          "text": [
            "WARNING:tensorflow:Can save best model only with val_accuracy available, skipping.\n"
          ]
        },
        {
          "output_type": "stream",
          "name": "stdout",
          "text": [
            "\b\b\b\b\b\b\b\b\b\b\b\b\b\b\b\b\b\b\b\b\b\b\b\b\b\b\b\b\b\b\b\b\b\b\b\b\b\b\b\b\b\b\b\b\b\b\b\b\b\b\b\b\b\b\b\b\b\b\b\b\b\b\b\b\b\b\b\b\b\b\b\b\b\b\b\b\b\r32/32 [==============================] - 113s 4s/step - loss: 0.1902 - acc: 0.9217 - val_loss: 0.2027 - val_acc: 0.9157\n",
            "Epoch 4/25\n",
            "32/32 [==============================] - ETA: 0s - loss: 0.2514 - acc: 0.9005"
          ]
        },
        {
          "output_type": "stream",
          "name": "stderr",
          "text": [
            "WARNING:tensorflow:Can save best model only with val_accuracy available, skipping.\n"
          ]
        },
        {
          "output_type": "stream",
          "name": "stdout",
          "text": [
            "\b\b\b\b\b\b\b\b\b\b\b\b\b\b\b\b\b\b\b\b\b\b\b\b\b\b\b\b\b\b\b\b\b\b\b\b\b\b\b\b\b\b\b\b\b\b\b\b\b\b\b\b\b\b\b\b\b\b\b\b\b\b\b\b\b\b\b\b\b\b\b\b\b\b\b\b\b\r32/32 [==============================] - 111s 3s/step - loss: 0.2514 - acc: 0.9005 - val_loss: 0.2140 - val_acc: 0.9129\n",
            "Epoch 5/25\n",
            "32/32 [==============================] - ETA: 0s - loss: 0.1762 - acc: 0.9254"
          ]
        },
        {
          "output_type": "stream",
          "name": "stderr",
          "text": [
            "WARNING:tensorflow:Can save best model only with val_accuracy available, skipping.\n"
          ]
        },
        {
          "output_type": "stream",
          "name": "stdout",
          "text": [
            "\b\b\b\b\b\b\b\b\b\b\b\b\b\b\b\b\b\b\b\b\b\b\b\b\b\b\b\b\b\b\b\b\b\b\b\b\b\b\b\b\b\b\b\b\b\b\b\b\b\b\b\b\b\b\b\b\b\b\b\b\b\b\b\b\b\b\b\b\b\b\b\b\b\b\b\b\b\r32/32 [==============================] - 109s 3s/step - loss: 0.1762 - acc: 0.9254 - val_loss: 0.1987 - val_acc: 0.9234\n",
            "Epoch 6/25\n",
            "32/32 [==============================] - ETA: 0s - loss: 0.1668 - acc: 0.9317"
          ]
        },
        {
          "output_type": "stream",
          "name": "stderr",
          "text": [
            "WARNING:tensorflow:Can save best model only with val_accuracy available, skipping.\n"
          ]
        },
        {
          "output_type": "stream",
          "name": "stdout",
          "text": [
            "\b\b\b\b\b\b\b\b\b\b\b\b\b\b\b\b\b\b\b\b\b\b\b\b\b\b\b\b\b\b\b\b\b\b\b\b\b\b\b\b\b\b\b\b\b\b\b\b\b\b\b\b\b\b\b\b\b\b\b\b\b\b\b\b\b\b\b\b\b\b\b\b\b\b\b\b\b\r32/32 [==============================] - 111s 4s/step - loss: 0.1668 - acc: 0.9317 - val_loss: 0.2331 - val_acc: 0.9063\n",
            "Epoch 7/25\n",
            "32/32 [==============================] - ETA: 0s - loss: 0.2178 - acc: 0.9198"
          ]
        },
        {
          "output_type": "stream",
          "name": "stderr",
          "text": [
            "WARNING:tensorflow:Can save best model only with val_accuracy available, skipping.\n"
          ]
        },
        {
          "output_type": "stream",
          "name": "stdout",
          "text": [
            "\b\b\b\b\b\b\b\b\b\b\b\b\b\b\b\b\b\b\b\b\b\b\b\b\b\b\b\b\b\b\b\b\b\b\b\b\b\b\b\b\b\b\b\b\b\b\b\b\b\b\b\b\b\b\b\b\b\b\b\b\b\b\b\b\b\b\b\b\b\b\b\b\b\b\b\b\b\r32/32 [==============================] - 114s 4s/step - loss: 0.2178 - acc: 0.9198 - val_loss: 0.2780 - val_acc: 0.8806\n",
            "Epoch 8/25\n",
            "32/32 [==============================] - ETA: 0s - loss: 0.1518 - acc: 0.9402"
          ]
        },
        {
          "output_type": "stream",
          "name": "stderr",
          "text": [
            "WARNING:tensorflow:Can save best model only with val_accuracy available, skipping.\n"
          ]
        },
        {
          "output_type": "stream",
          "name": "stdout",
          "text": [
            "\b\b\b\b\b\b\b\b\b\b\b\b\b\b\b\b\b\b\b\b\b\b\b\b\b\b\b\b\b\b\b\b\b\b\b\b\b\b\b\b\b\b\b\b\b\b\b\b\b\b\b\b\b\b\b\b\b\b\b\b\b\b\b\b\b\b\b\b\b\b\b\b\b\b\b\b\b\r32/32 [==============================] - 111s 4s/step - loss: 0.1518 - acc: 0.9402 - val_loss: 0.2590 - val_acc: 0.8960\n",
            "Epoch 9/25\n",
            "32/32 [==============================] - ETA: 0s - loss: 0.2018 - acc: 0.9203"
          ]
        },
        {
          "output_type": "stream",
          "name": "stderr",
          "text": [
            "WARNING:tensorflow:Can save best model only with val_accuracy available, skipping.\n"
          ]
        },
        {
          "output_type": "stream",
          "name": "stdout",
          "text": [
            "\b\b\b\b\b\b\b\b\b\b\b\b\b\b\b\b\b\b\b\b\b\b\b\b\b\b\b\b\b\b\b\b\b\b\b\b\b\b\b\b\b\b\b\b\b\b\b\b\b\b\b\b\b\b\b\b\b\b\b\b\b\b\b\b\b\b\b\b\b\b\b\b\b\b\b\b\b\r32/32 [==============================] - 109s 3s/step - loss: 0.2018 - acc: 0.9203 - val_loss: 0.2159 - val_acc: 0.9114\n",
            "Epoch 10/25\n",
            "32/32 [==============================] - ETA: 0s - loss: 0.2239 - acc: 0.9117"
          ]
        },
        {
          "output_type": "stream",
          "name": "stderr",
          "text": [
            "WARNING:tensorflow:Can save best model only with val_accuracy available, skipping.\n"
          ]
        },
        {
          "output_type": "stream",
          "name": "stdout",
          "text": [
            "\b\b\b\b\b\b\b\b\b\b\b\b\b\b\b\b\b\b\b\b\b\b\b\b\b\b\b\b\b\b\b\b\b\b\b\b\b\b\b\b\b\b\b\b\b\b\b\b\b\b\b\b\b\b\b\b\b\b\b\b\b\b\b\b\b\b\b\b\b\b\b\b\b\b\b\b\b\r32/32 [==============================] - 111s 4s/step - loss: 0.2239 - acc: 0.9117 - val_loss: 0.2432 - val_acc: 0.9090\n",
            "Epoch 11/25\n",
            "32/32 [==============================] - ETA: 0s - loss: 0.1731 - acc: 0.9314"
          ]
        },
        {
          "output_type": "stream",
          "name": "stderr",
          "text": [
            "WARNING:tensorflow:Can save best model only with val_accuracy available, skipping.\n"
          ]
        },
        {
          "output_type": "stream",
          "name": "stdout",
          "text": [
            "\b\b\b\b\b\b\b\b\b\b\b\b\b\b\b\b\b\b\b\b\b\b\b\b\b\b\b\b\b\b\b\b\b\b\b\b\b\b\b\b\b\b\b\b\b\b\b\b\b\b\b\b\b\b\b\b\b\b\b\b\b\b\b\b\b\b\b\b\b\b\b\b\b\b\b\b\b\r32/32 [==============================] - 111s 3s/step - loss: 0.1731 - acc: 0.9314 - val_loss: 0.2683 - val_acc: 0.8928\n",
            "Epoch 12/25\n",
            "32/32 [==============================] - ETA: 0s - loss: 0.1240 - acc: 0.9503"
          ]
        },
        {
          "output_type": "stream",
          "name": "stderr",
          "text": [
            "WARNING:tensorflow:Can save best model only with val_accuracy available, skipping.\n"
          ]
        },
        {
          "output_type": "stream",
          "name": "stdout",
          "text": [
            "\b\b\b\b\b\b\b\b\b\b\b\b\b\b\b\b\b\b\b\b\b\b\b\b\b\b\b\b\b\b\b\b\b\b\b\b\b\b\b\b\b\b\b\b\b\b\b\b\b\b\b\b\b\b\b\b\b\b\b\b\b\b\b\b\b\b\b\b\b\b\b\b\b\b\b\b\b\r32/32 [==============================] - 113s 4s/step - loss: 0.1240 - acc: 0.9503 - val_loss: 0.2668 - val_acc: 0.8919\n",
            "Epoch 13/25\n",
            "32/32 [==============================] - ETA: 0s - loss: 0.2111 - acc: 0.9153"
          ]
        },
        {
          "output_type": "stream",
          "name": "stderr",
          "text": [
            "WARNING:tensorflow:Can save best model only with val_accuracy available, skipping.\n"
          ]
        },
        {
          "output_type": "stream",
          "name": "stdout",
          "text": [
            "\b\b\b\b\b\b\b\b\b\b\b\b\b\b\b\b\b\b\b\b\b\b\b\b\b\b\b\b\b\b\b\b\b\b\b\b\b\b\b\b\b\b\b\b\b\b\b\b\b\b\b\b\b\b\b\b\b\b\b\b\b\b\b\b\b\b\b\b\b\b\b\b\b\b\b\b\b\r32/32 [==============================] - 114s 4s/step - loss: 0.2111 - acc: 0.9153 - val_loss: 0.2510 - val_acc: 0.8932\n",
            "Epoch 14/25\n",
            "32/32 [==============================] - ETA: 0s - loss: 0.1214 - acc: 0.9521"
          ]
        },
        {
          "output_type": "stream",
          "name": "stderr",
          "text": [
            "WARNING:tensorflow:Can save best model only with val_accuracy available, skipping.\n"
          ]
        },
        {
          "output_type": "stream",
          "name": "stdout",
          "text": [
            "\b\b\b\b\b\b\b\b\b\b\b\b\b\b\b\b\b\b\b\b\b\b\b\b\b\b\b\b\b\b\b\b\b\b\b\b\b\b\b\b\b\b\b\b\b\b\b\b\b\b\b\b\b\b\b\b\b\b\b\b\b\b\b\b\b\b\b\b\b\b\b\b\b\b\b\b\b\r32/32 [==============================] - 112s 4s/step - loss: 0.1214 - acc: 0.9521 - val_loss: 0.3452 - val_acc: 0.8726\n",
            "Epoch 15/25\n",
            "32/32 [==============================] - ETA: 0s - loss: 0.1046 - acc: 0.9568"
          ]
        },
        {
          "output_type": "stream",
          "name": "stderr",
          "text": [
            "WARNING:tensorflow:Can save best model only with val_accuracy available, skipping.\n"
          ]
        },
        {
          "output_type": "stream",
          "name": "stdout",
          "text": [
            "\b\b\b\b\b\b\b\b\b\b\b\b\b\b\b\b\b\b\b\b\b\b\b\b\b\b\b\b\b\b\b\b\b\b\b\b\b\b\b\b\b\b\b\b\b\b\b\b\b\b\b\b\b\b\b\b\b\b\b\b\b\b\b\b\b\b\b\b\b\b\b\b\b\b\b\b\b\r32/32 [==============================] - 112s 4s/step - loss: 0.1046 - acc: 0.9568 - val_loss: 0.2148 - val_acc: 0.9180\n",
            "Epoch 16/25\n",
            "32/32 [==============================] - ETA: 0s - loss: 0.1165 - acc: 0.9508"
          ]
        },
        {
          "output_type": "stream",
          "name": "stderr",
          "text": [
            "WARNING:tensorflow:Can save best model only with val_accuracy available, skipping.\n"
          ]
        },
        {
          "output_type": "stream",
          "name": "stdout",
          "text": [
            "\b\b\b\b\b\b\b\b\b\b\b\b\b\b\b\b\b\b\b\b\b\b\b\b\b\b\b\b\b\b\b\b\b\b\b\b\b\b\b\b\b\b\b\b\b\b\b\b\b\b\b\b\b\b\b\b\b\b\b\b\b\b\b\b\b\b\b\b\b\b\b\b\b\b\b\b\b\r32/32 [==============================] - 110s 3s/step - loss: 0.1165 - acc: 0.9508 - val_loss: 0.1825 - val_acc: 0.9304\n",
            "Epoch 17/25\n",
            "32/32 [==============================] - ETA: 0s - loss: 0.1292 - acc: 0.9462"
          ]
        },
        {
          "output_type": "stream",
          "name": "stderr",
          "text": [
            "WARNING:tensorflow:Can save best model only with val_accuracy available, skipping.\n"
          ]
        },
        {
          "output_type": "stream",
          "name": "stdout",
          "text": [
            "\b\b\b\b\b\b\b\b\b\b\b\b\b\b\b\b\b\b\b\b\b\b\b\b\b\b\b\b\b\b\b\b\b\b\b\b\b\b\b\b\b\b\b\b\b\b\b\b\b\b\b\b\b\b\b\b\b\b\b\b\b\b\b\b\b\b\b\b\b\b\b\b\b\b\b\b\b\r32/32 [==============================] - 110s 3s/step - loss: 0.1292 - acc: 0.9462 - val_loss: 0.2788 - val_acc: 0.8906\n",
            "Epoch 18/25\n",
            "32/32 [==============================] - ETA: 0s - loss: 0.1068 - acc: 0.9543"
          ]
        },
        {
          "output_type": "stream",
          "name": "stderr",
          "text": [
            "WARNING:tensorflow:Can save best model only with val_accuracy available, skipping.\n"
          ]
        },
        {
          "output_type": "stream",
          "name": "stdout",
          "text": [
            "\b\b\b\b\b\b\b\b\b\b\b\b\b\b\b\b\b\b\b\b\b\b\b\b\b\b\b\b\b\b\b\b\b\b\b\b\b\b\b\b\b\b\b\b\b\b\b\b\b\b\b\b\b\b\b\b\b\b\b\b\b\b\b\b\b\b\b\b\b\b\b\b\b\b\b\b\b\r32/32 [==============================] - 112s 4s/step - loss: 0.1068 - acc: 0.9543 - val_loss: 0.2585 - val_acc: 0.9018\n",
            "Epoch 19/25\n",
            "32/32 [==============================] - ETA: 0s - loss: 0.1162 - acc: 0.9540"
          ]
        },
        {
          "output_type": "stream",
          "name": "stderr",
          "text": [
            "WARNING:tensorflow:Can save best model only with val_accuracy available, skipping.\n"
          ]
        },
        {
          "output_type": "stream",
          "name": "stdout",
          "text": [
            "\b\b\b\b\b\b\b\b\b\b\b\b\b\b\b\b\b\b\b\b\b\b\b\b\b\b\b\b\b\b\b\b\b\b\b\b\b\b\b\b\b\b\b\b\b\b\b\b\b\b\b\b\b\b\b\b\b\b\b\b\b\b\b\b\b\b\b\b\b\b\b\b\b\b\b\b\b\r32/32 [==============================] - 115s 4s/step - loss: 0.1162 - acc: 0.9540 - val_loss: 0.7772 - val_acc: 0.7873\n",
            "Epoch 20/25\n",
            "32/32 [==============================] - ETA: 0s - loss: 0.1456 - acc: 0.9416"
          ]
        },
        {
          "output_type": "stream",
          "name": "stderr",
          "text": [
            "WARNING:tensorflow:Can save best model only with val_accuracy available, skipping.\n"
          ]
        },
        {
          "output_type": "stream",
          "name": "stdout",
          "text": [
            "\b\b\b\b\b\b\b\b\b\b\b\b\b\b\b\b\b\b\b\b\b\b\b\b\b\b\b\b\b\b\b\b\b\b\b\b\b\b\b\b\b\b\b\b\b\b\b\b\b\b\b\b\b\b\b\b\b\b\b\b\b\b\b\b\b\b\b\b\b\b\b\b\b\b\b\b\b\r32/32 [==============================] - 112s 4s/step - loss: 0.1456 - acc: 0.9416 - val_loss: 0.1800 - val_acc: 0.9309\n",
            "Epoch 21/25\n",
            "32/32 [==============================] - ETA: 0s - loss: 0.1264 - acc: 0.9489"
          ]
        },
        {
          "output_type": "stream",
          "name": "stderr",
          "text": [
            "WARNING:tensorflow:Can save best model only with val_accuracy available, skipping.\n"
          ]
        },
        {
          "output_type": "stream",
          "name": "stdout",
          "text": [
            "\b\b\b\b\b\b\b\b\b\b\b\b\b\b\b\b\b\b\b\b\b\b\b\b\b\b\b\b\b\b\b\b\b\b\b\b\b\b\b\b\b\b\b\b\b\b\b\b\b\b\b\b\b\b\b\b\b\b\b\b\b\b\b\b\b\b\b\b\b\b\b\b\b\b\b\b\b\r32/32 [==============================] - 110s 3s/step - loss: 0.1264 - acc: 0.9489 - val_loss: 0.2359 - val_acc: 0.8930\n",
            "Epoch 22/25\n",
            "32/32 [==============================] - ETA: 0s - loss: 0.1057 - acc: 0.9545"
          ]
        },
        {
          "output_type": "stream",
          "name": "stderr",
          "text": [
            "WARNING:tensorflow:Can save best model only with val_accuracy available, skipping.\n"
          ]
        },
        {
          "output_type": "stream",
          "name": "stdout",
          "text": [
            "\b\b\b\b\b\b\b\b\b\b\b\b\b\b\b\b\b\b\b\b\b\b\b\b\b\b\b\b\b\b\b\b\b\b\b\b\b\b\b\b\b\b\b\b\b\b\b\b\b\b\b\b\b\b\b\b\b\b\b\b\b\b\b\b\b\b\b\b\b\b\b\b\b\b\b\b\b\r32/32 [==============================] - 112s 4s/step - loss: 0.1057 - acc: 0.9545 - val_loss: 0.1699 - val_acc: 0.9277\n",
            "Epoch 23/25\n",
            "32/32 [==============================] - ETA: 0s - loss: 0.0965 - acc: 0.9597"
          ]
        },
        {
          "output_type": "stream",
          "name": "stderr",
          "text": [
            "WARNING:tensorflow:Can save best model only with val_accuracy available, skipping.\n"
          ]
        },
        {
          "output_type": "stream",
          "name": "stdout",
          "text": [
            "\b\b\b\b\b\b\b\b\b\b\b\b\b\b\b\b\b\b\b\b\b\b\b\b\b\b\b\b\b\b\b\b\b\b\b\b\b\b\b\b\b\b\b\b\b\b\b\b\b\b\b\b\b\b\b\b\b\b\b\b\b\b\b\b\b\b\b\b\b\b\b\b\b\b\b\b\b\r32/32 [==============================] - 109s 3s/step - loss: 0.0965 - acc: 0.9597 - val_loss: 0.6102 - val_acc: 0.8191\n",
            "Epoch 24/25\n",
            "32/32 [==============================] - ETA: 0s - loss: 0.1572 - acc: 0.9368"
          ]
        },
        {
          "output_type": "stream",
          "name": "stderr",
          "text": [
            "WARNING:tensorflow:Can save best model only with val_accuracy available, skipping.\n"
          ]
        },
        {
          "output_type": "stream",
          "name": "stdout",
          "text": [
            "\b\b\b\b\b\b\b\b\b\b\b\b\b\b\b\b\b\b\b\b\b\b\b\b\b\b\b\b\b\b\b\b\b\b\b\b\b\b\b\b\b\b\b\b\b\b\b\b\b\b\b\b\b\b\b\b\b\b\b\b\b\b\b\b\b\b\b\b\b\b\b\b\b\b\b\b\b\r32/32 [==============================] - 112s 4s/step - loss: 0.1572 - acc: 0.9368 - val_loss: 0.3678 - val_acc: 0.8669\n",
            "Epoch 25/25\n",
            "32/32 [==============================] - ETA: 0s - loss: 0.0965 - acc: 0.9603"
          ]
        },
        {
          "output_type": "stream",
          "name": "stderr",
          "text": [
            "WARNING:tensorflow:Can save best model only with val_accuracy available, skipping.\n"
          ]
        },
        {
          "output_type": "stream",
          "name": "stdout",
          "text": [
            "\b\b\b\b\b\b\b\b\b\b\b\b\b\b\b\b\b\b\b\b\b\b\b\b\b\b\b\b\b\b\b\b\b\b\b\b\b\b\b\b\b\b\b\b\b\b\b\b\b\b\b\b\b\b\b\b\b\b\b\b\b\b\b\b\b\b\b\b\b\b\b\b\b\b\b\b\b\r32/32 [==============================] - 113s 4s/step - loss: 0.0965 - acc: 0.9603 - val_loss: 0.1968 - val_acc: 0.9219\n"
          ]
        }
      ],
      "source": [
        "# save the model\n",
        "# save_path = \"./demo_models/tf_lite_retvec\"\n",
        "# model.save(save_path)\n",
        "# compile and train the model like usual\n",
        "from tensorflow.keras.callbacks import ModelCheckpoint\n",
        "from keras.optimizers import SGD\n",
        "checkpoint_filepath = 'best_model_weights.h5'\n",
        "model_checkpoint_callback = ModelCheckpoint(\n",
        "    filepath=checkpoint_filepath,\n",
        "    save_weights_only=True,\n",
        "    monitor='val_accuracy',  # Monitor validation accuracy\n",
        "    mode='max',  # Choose 'max' to save the best weights\n",
        "    save_best_only=True  # Save only the best weights\n",
        ")\n",
        "\n",
        "train_data=pd.read_csv('TrainRetVec.csv')\n",
        "x_train, x_test, y_train, y_test = train_test_split(train_data['Email Text'],train_data[['Phishing Email','Safe Email']],test_size=0.4, random_state=0, shuffle=True)\n",
        "batch_size = 256\n",
        "epochs = 25\n",
        "\n",
        "# Initialize SGD with Momentum lr is learning rate\n",
        "sgd = SGD(lr=0.0001, momentum=0.8, nesterov=True)\n",
        "model.compile(optimizer=sgd,  loss='binary_crossentropy', metrics=['acc'])\n",
        "print(\"x_train\", x_train.shape)\n",
        "print(\"x_test\", x_test.shape)\n",
        "print(\"y_train\", y_train.shape)\n",
        "print(\"y_test\", y_test.shape)\n",
        "history = model.fit(x_train, y_train, epochs=epochs, batch_size=batch_size,\n",
        "                    validation_data=(x_test, y_test) , callbacks=[model_checkpoint_callback])# callbacks"
      ]
    },
    {
      "cell_type": "code",
      "execution_count": null,
      "metadata": {
        "id": "I1YYwLL95tcE",
        "colab": {
          "base_uri": "https://localhost:8080/",
          "height": 643
        },
        "outputId": "09241820-a70a-4905-efd9-7da58ff69de8"
      },
      "outputs": [
        {
          "output_type": "stream",
          "name": "stdout",
          "text": [
            "Requirement already satisfied: matplotlib in /usr/local/lib/python3.10/dist-packages (3.7.1)\n",
            "Requirement already satisfied: contourpy>=1.0.1 in /usr/local/lib/python3.10/dist-packages (from matplotlib) (1.2.0)\n",
            "Requirement already satisfied: cycler>=0.10 in /usr/local/lib/python3.10/dist-packages (from matplotlib) (0.12.1)\n",
            "Requirement already satisfied: fonttools>=4.22.0 in /usr/local/lib/python3.10/dist-packages (from matplotlib) (4.49.0)\n",
            "Requirement already satisfied: kiwisolver>=1.0.1 in /usr/local/lib/python3.10/dist-packages (from matplotlib) (1.4.5)\n",
            "Requirement already satisfied: numpy>=1.20 in /usr/local/lib/python3.10/dist-packages (from matplotlib) (1.25.2)\n",
            "Requirement already satisfied: packaging>=20.0 in /usr/local/lib/python3.10/dist-packages (from matplotlib) (23.2)\n",
            "Requirement already satisfied: pillow>=6.2.0 in /usr/local/lib/python3.10/dist-packages (from matplotlib) (9.4.0)\n",
            "Requirement already satisfied: pyparsing>=2.3.1 in /usr/local/lib/python3.10/dist-packages (from matplotlib) (3.1.1)\n",
            "Requirement already satisfied: python-dateutil>=2.7 in /usr/local/lib/python3.10/dist-packages (from matplotlib) (2.8.2)\n",
            "Requirement already satisfied: six>=1.5 in /usr/local/lib/python3.10/dist-packages (from python-dateutil>=2.7->matplotlib) (1.16.0)\n"
          ]
        },
        {
          "output_type": "display_data",
          "data": {
            "text/plain": [
              "<Figure size 640x480 with 1 Axes>"
            ],
            "image/png": "[encoded data removed]"
          },
          "metadata": {}
        }
      ],
      "source": [
        "# visualize the training curves\n",
        "!pip install matplotlib\n",
        "from matplotlib import pyplot as plt\n",
        "plt.plot(history.history['acc'])\n",
        "plt.plot(history.history['val_acc'])\n",
        "plt.legend(['acc', 'val_acc'])\n",
        "plt.title(f'Accuracy')\n",
        "plt.show()"
      ]
    },
    {
      "cell_type": "code",
      "source": [
        "from sklearn.metrics import accuracy_score, precision_recall_curve, auc\n",
        "test_data=pd.read_csv('TestRetVec.csv')\n",
        "print(test_data['Phishing Email'])\n",
        "print(test_data['Safe Email'])\n",
        "y_pred = model.predict(test_data['Email Text'])\n",
        "# Convert predictions back to label encoding\n",
        "y_pred_label = np.argmax(y_pred, axis=1)\n",
        "print(y_pred_label)\n",
        "\n",
        "# Convert true labels back to label encoding\n",
        "y_test_label = np.column_stack((test_data['Phishing Email'], test_data['Safe Email']))\n",
        "print(\"2D Array:\")\n",
        "print(y_test_label)\n",
        "y_test_label = np.argmax(y_test_label, axis=1)\n",
        "\n",
        "# Calculate accuracy\n",
        "accuracy = accuracy_score(y_test_label, y_pred_label)\n",
        "print(\"Accuracy:\", accuracy)\n",
        "# Calculate precision, recall, and thresholds\n",
        "precision, recall, thresholds = precision_recall_curve(y_test_label, y_pred_label)\n",
        "# Calculate AUC-PR\n",
        "auc_pr = auc(recall, precision)\n",
        "print(\"AUC-PR:\", auc_pr)"
      ],
      "metadata": {
        "colab": {
          "base_uri": "https://localhost:8080/"
        },
        "id": "FVxq3j6BSAZf",
        "outputId": "7aab4402-c4f5-470f-b5cc-fa6964d35563"
      },
      "execution_count": null,
      "outputs": [
        {
          "output_type": "stream",
          "name": "stdout",
          "text": [
            "0       0\n",
            "1       0\n",
            "2       1\n",
            "3       1\n",
            "4       0\n",
            "       ..\n",
            "2325    0\n",
            "2326    0\n",
            "2327    0\n",
            "2328    0\n",
            "2329    1\n",
            "Name: Phishing Email, Length: 2330, dtype: int64\n",
            "0       1\n",
            "1       1\n",
            "2       0\n",
            "3       0\n",
            "4       1\n",
            "       ..\n",
            "2325    1\n",
            "2326    1\n",
            "2327    1\n",
            "2328    1\n",
            "2329    0\n",
            "Name: Safe Email, Length: 2330, dtype: int64\n",
            "73/73 [==============================] - 23s 285ms/step\n",
            "[1 1 0 ... 1 1 0]\n",
            "2D Array:\n",
            "[[0 1]\n",
            " [0 1]\n",
            " [1 0]\n",
            " ...\n",
            " [0 1]\n",
            " [0 1]\n",
            " [1 0]]\n",
            "Accuracy: 0.9047210300429185\n",
            "AUC-PR: 0.9283344150371468\n"
          ]
        }
      ]
    },
    {
      "cell_type": "code",
      "source": [
        "model.save_weights(checkpoint_filepath)\n",
        "print(f\"Model weights saved to {checkpoint_filepath}\")\n",
        "# # Create a new model instance (assuming you've defined your model architecture)\n",
        "# mod = build_model()\n",
        "\n",
        "# # Restore the weights\n",
        "model.load_weights(checkpoint_filepath)\n",
        "# checks if same test is still working\n",
        "test_data=pd.read_csv('TestRetVec.csv')\n",
        "print(test_data['Phishing Email'])\n",
        "print(test_data['Safe Email'])\n",
        "y_pred = model.predict(test_data['Email Text'])\n",
        "# Convert predictions back to label encoding\n",
        "y_pred_label = np.argmax(y_pred, axis=1)\n",
        "print(y_pred_label)\n",
        "\n",
        "# Convert true labels back to label encoding\n",
        "y_test_label = np.column_stack((test_data['Phishing Email'], test_data['Safe Email']))\n",
        "print(\"2D Array:\")\n",
        "print(y_test_label)\n",
        "y_test_label = np.argmax(y_test_label, axis=1)\n",
        "\n",
        "# Calculate accuracy\n",
        "accuracy = accuracy_score(y_test_label, y_pred_label)\n",
        "print(\"Accuracy:\", accuracy)\n",
        "# Calculate precision, recall, and thresholds\n",
        "precision, recall, thresholds = precision_recall_curve(y_test_label, y_pred_label)\n",
        "# Calculate AUC-PR\n",
        "auc_pr = auc(recall, precision)"
      ],
      "metadata": {
        "colab": {
          "base_uri": "https://localhost:8080/"
        },
        "id": "DzWXvOdotZHs",
        "outputId": "98f88ca9-8c45-4c9c-a2d5-3631e1f3339a"
      },
      "execution_count": null,
      "outputs": [
        {
          "output_type": "stream",
          "name": "stdout",
          "text": [
            "Model weights saved to best_model_weights.h5\n",
            "0       0\n",
            "1       0\n",
            "2       1\n",
            "3       1\n",
            "4       0\n",
            "       ..\n",
            "2325    0\n",
            "2326    0\n",
            "2327    0\n",
            "2328    0\n",
            "2329    1\n",
            "Name: Phishing Email, Length: 2330, dtype: int64\n",
            "0       1\n",
            "1       1\n",
            "2       0\n",
            "3       0\n",
            "4       1\n",
            "       ..\n",
            "2325    1\n",
            "2326    1\n",
            "2327    1\n",
            "2328    1\n",
            "2329    0\n",
            "Name: Safe Email, Length: 2330, dtype: int64\n",
            "73/73 [==============================] - 21s 293ms/step\n",
            "[1 1 0 ... 1 1 0]\n",
            "2D Array:\n",
            "[[0 1]\n",
            " [0 1]\n",
            " [1 0]\n",
            " ...\n",
            " [0 1]\n",
            " [0 1]\n",
            " [1 0]]\n",
            "Accuracy: 0.9047210300429185\n"
          ]
        }
      ]
    },
    {
      "cell_type": "code",
      "source": [
        "from google.colab import drive\n",
        "drive.mount('/content/drive')"
      ],
      "metadata": {
        "colab": {
          "base_uri": "https://localhost:8080/"
        },
        "id": "nRuvbXn1T0AD",
        "outputId": "8061f03a-171b-4920-cc3a-d36dcd54c616"
      },
      "execution_count": null,
      "outputs": [
        {
          "output_type": "stream",
          "name": "stdout",
          "text": [
            "Drive already mounted at /content/drive; to attempt to forcibly remount, call drive.mount(\"/content/drive\", force_remount=True).\n"
          ]
        }
      ]
    }
  ],
  "metadata": {
    "colab": {
      "provenance": [],
      "include_colab_link": true
    },
    "kernelspec": {
      "display_name": "Python 3",
      "name": "python3"
    },
    "language_info": {
      "name": "python"
    }
  },
  "nbformat": 4,
  "nbformat_minor": 0
}